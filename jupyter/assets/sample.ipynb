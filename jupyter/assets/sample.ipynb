{
 "cells": [
  {
   "cell_type": "markdown",
   "metadata": {},
   "source": [
    "# Basic Data Visualization Sample\n",
    "This Jupyter Notebook demonstrates the basics of data analysis and visualization in Python. It has two dependencies: Matplotlib, Numpy and Pandas.\n",
    "In this example, you will work with historical population data for Singapore."
   ]
  },
  {
   "cell_type": "markdown",
   "metadata": {},
   "source": [
    "## Part 1\n",
    "In the first block of code, we will import data from a CSV file and print it as a table."
   ]
  },
  {
   "cell_type": "code",
   "execution_count": null,
   "metadata": {},
   "outputs": [],
   "source": [
    "# import pandas for data processing\n",
    "import pandas as pd\n",
    "\n",
    "# use a CSV file as a data source for a pandas dataframe\n",
    "df = pd.read_csv(r'/root/notebook/SG_Population.csv', header=0, dtype=int)\n",
    "\n",
    "# print the data as a table\n",
    "print(df)"
   ]
  },
  {
   "cell_type": "markdown",
   "metadata": {},
   "source": [
    "## Part 2\n",
    "In the second block of code, we will display the data as a line graph."
   ]
  },
  {
   "cell_type": "code",
   "execution_count": null,
   "metadata": {},
   "outputs": [],
   "source": [
    "# import the matplotlib.pyplot for data visualization\n",
    "import matplotlib.pyplot as plt\n",
    "\n",
    "# create and format a line graph\n",
    "plt.plot(df[\"Year\"], df[\"Population\"], color='red')\n",
    "plt.xlabel('Year')\n",
    "plt.ylabel('Poplation')\n",
    "plt.title(label=\"Population of Singapore (1950-2022)\")\n",
    "plt.ticklabel_format(style='plain')\n",
    "\n",
    "# print the line graph\n",
    "plt.show()"
   ]
  }
 ],
 "metadata": {
  "kernelspec": {
   "display_name": "Python 3",
   "language": "python",
   "name": "python3"
  },
  "language_info": {
   "name": "python",
   "version": "3.10.12"
  },
  "orig_nbformat": 4
 },
 "nbformat": 4,
 "nbformat_minor": 2
}
